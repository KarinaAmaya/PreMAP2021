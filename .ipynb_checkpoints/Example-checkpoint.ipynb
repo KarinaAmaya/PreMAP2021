{
 "cells": [
  {
   "cell_type": "markdown",
   "metadata": {},
   "source": [
    "# How to Identify Flares Using Stella"
   ]
  },
  {
   "cell_type": "markdown",
   "metadata": {},
   "source": [
    "In this notebook I will provide a step by step process of how to identify flares on a given star. We will start off by loading in the relevant data. From there you will be able to follow along with the stella tutorial. The final step of the project is to say something about the number of flares and the frequency of flare events on a given star. To do this we will be making a flare frequency diagram (FFD) using the list of flares provided by stella."
   ]
  },
  {
   "cell_type": "markdown",
   "metadata": {},
   "source": [
    "## Part 1: Loading in the data"
   ]
  },
  {
   "cell_type": "markdown",
   "metadata": {},
   "source": [
    "To start off we will be loading in the relevant python packages that we will be using for the project"
   ]
  },
  {
   "cell_type": "code",
   "execution_count": null,
   "metadata": {},
   "outputs": [],
   "source": [
    "%matplotlib inline #lets us create plots within the jupyter notebook env\n",
    "import numpy as np\n",
    "import matplotlib.pyplot as plt\n",
    "import pandas as pd\n",
    "from scipy import *\n",
    "import lightkurve #to read in the tess data\n",
    "import celerite\n",
    "import stella #flare finding algorithm"
   ]
  },
  {
   "cell_type": "markdown",
   "metadata": {},
   "source": [
    "Next, we will be using the package 'lighkurve' to load in the light curves of a given star\n",
    "\n",
    "You can read more about the lightkurve package here: https://docs.lightkurve.org/index.html"
   ]
  },
  {
   "cell_type": "code",
   "execution_count": null,
   "metadata": {},
   "outputs": [],
   "source": []
  },
  {
   "cell_type": "code",
   "execution_count": null,
   "metadata": {},
   "outputs": [],
   "source": []
  },
  {
   "cell_type": "markdown",
   "metadata": {},
   "source": [
    "## Part 2: Using Stella"
   ]
  },
  {
   "cell_type": "markdown",
   "metadata": {},
   "source": [
    "We will be using the flare finding algortithm developed by Adina Feinstein to search for flares in the TESS data.\n",
    "You can learn more about stella and how it work here: https://adina.feinste.in/stella/index.html"
   ]
  },
  {
   "cell_type": "code",
   "execution_count": null,
   "metadata": {},
   "outputs": [],
   "source": []
  },
  {
   "cell_type": "code",
   "execution_count": null,
   "metadata": {},
   "outputs": [],
   "source": []
  },
  {
   "cell_type": "markdown",
   "metadata": {},
   "source": [
    "## Part 3: Flare Frequency Distributions"
   ]
  },
  {
   "cell_type": "markdown",
   "metadata": {},
   "source": [
    "For this part we will be using code written by Dr. Jim Davenport (available on GitHub: https://github.com/jradavenport/FFD) to create a flare frequency distribution plot"
   ]
  },
  {
   "cell_type": "code",
   "execution_count": null,
   "metadata": {},
   "outputs": [],
   "source": [
    "from astropy.modeling.models import Gaussian2D\n",
    "\n",
    "\n",
    "def FFD(ED, TOTEXP=1., Lum=30., fluxerr=0., dur=[], logY=True, est_comp=False):\n",
    "    '''\n",
    "    Given a set of stellar flares, with accompanying durations light curve properties,\n",
    "    compute the reverse cumulative Flare Frequency Distribution (FFD), and\n",
    "    approximate uncertainties in both energy and rate (X,Y) dimensions.\n",
    "    This diagram can be read as measuring the number of flares per day at a\n",
    "    given energy or larger.\n",
    "    Not a complicated task, just tedious.\n",
    "    Y-errors (rate) are computed using Poisson upper-limit approximation from\n",
    "    Gehrels (1986) \"Confidence limits for small numbers of events in astrophysical data\", https://doi.org/10.1086/164079\n",
    "    Eqn 7, assuming S=1.\n",
    "    X-errors (event energy) are computed following Signal-to-Noise approach commonly\n",
    "    used for Equivalent Widths in spectroscopy, from\n",
    "    Vollmann & Eversberg (2006) \"Astronomische Nachrichten, Vol.327, Issue 9, p.862\", https://dx.doi.org/10.1002/asna.200610645\n",
    "    Eqn 6.\n",
    "    Parameters\n",
    "    ----------\n",
    "    ED : array of Equiv Dur's, need to include a luminosity!\n",
    "    TOTEXP : total duration of observations, in days\n",
    "    Lum : the log luminosity of the star\n",
    "    fluxerr : the average flux errors of your data (in relative flux units!)\n",
    "    dur : array of flare durations.\n",
    "    logY : if True return Y-axis (and error) in log rate (Default: True)\n",
    "    est_comp : estimate incompleteness using histogram method, scale Y errors?\n",
    "        (Default: True)\n",
    "    Returns\n",
    "    -------\n",
    "    ffd_x, ffd_y, ffd_xerr, ffd_yerr\n",
    "    X coordinate always assumed to be log_10(Energy)\n",
    "    Y coordinate is log_10(N/Day) by default, but optionally is N/Day\n",
    "    Upgrade Ideas\n",
    "    -------------\n",
    "    - More graceful behavior if only an array of flares and a total duration are\n",
    "        specified (i.e. just enough to make ffd_x, ffd_y)\n",
    "    - Better propogation of specific flux errors in the light curve, rather than\n",
    "        average error used\n",
    "    - Include detrending errors? (e.g. from a GP)\n",
    "    - Asymmetric Poisson errors?\n",
    "    - Better handling of incompleteness?\n",
    "    '''\n",
    "    # REVERSE sort the flares in energy\n",
    "    ss = np.argsort(np.array(ED))[::-1]\n",
    "    ffd_x = np.log10(ED[ss]) + Lum\n",
    "\n",
    "    Num = np.arange(1, len(ffd_x)+1)\n",
    "    ffd_y = Num / TOTEXP\n",
    "\n",
    "    # approximate the Poisson Y errors using Gehrels (1986) eqn 7\n",
    "    Perror = np.sqrt(Num + 0.75) + 1.0\n",
    "    ffd_yerr = Perror / TOTEXP\n",
    "\n",
    "    # estimate completeness using the cumulative distribution of the histogram\n",
    "    if est_comp:\n",
    "        # make very loose guess at how many bins to choose\n",
    "        nbin = int(np.sqrt(len(ffd_x)))\n",
    "        if nbin < 10:\n",
    "            nbin=10 # but use at least 10 bins\n",
    "\n",
    "        # make histogram of the log(energies)\n",
    "        hh, be = np.histogram(ffd_x, bins=nbin, range=[np.nanmin(ffd_x), np.nanmax(ffd_x)])\n",
    "        hh = hh/np.nanmax(hh)\n",
    "        # make cumulative distribution of the histogram, scale to =1 at the hist peak\n",
    "        cc = np.cumsum(hh)/np.sum(hh[0:np.argmax(hh)])\n",
    "        be = (be[1:]+be[0:-1])/2\n",
    "        # make completeness = 1 for energies above the histogram peak\n",
    "        cc[np.argmax(hh):] = 1\n",
    "        # interpolate the cumulative histogram curve back to the original energies\n",
    "        ycomp = np.interp(ffd_x, be, cc)\n",
    "        # scale the y-errors by the completeness factor (i.e. inflate small energy errors)\n",
    "        ffd_yerr = ffd_yerr / ycomp\n",
    "\n",
    "    if logY:\n",
    "        # transform FFD Y and Y Error into log10\n",
    "        ffd_yerr = np.abs(ffd_yerr / np.log(10.) / ffd_y)\n",
    "        ffd_y = np.log10(ffd_y)\n",
    "\n",
    "    # compute X uncertainties for FFD\n",
    "    if len(dur)==len(ffd_x):\n",
    "\n",
    "        # assume relative flux error = 1/SN\n",
    "        S2N = 1/fluxerr\n",
    "        # based on Equivalent Width error\n",
    "        # Eqn 6, Vollmann & Eversberg (2006) Astronomische Nachrichten, Vol.327, Issue 9, p.862\n",
    "        ED_err = np.sqrt(2)*(dur[ss]*86400. - ED[ss])/S2N\n",
    "        ffd_xerr = np.abs((ED_err) / np.log(10.) / ED[ss]) # convert to log\n",
    "    else:\n",
    "        # not particularly meaningful, but an interesting shape. NOT reccomended\n",
    "        print('Warning: Durations not set. Making bad assumptions about the FFD X Error!')\n",
    "        #ffd_xerr = (1/np.sqrt(ffd_x-np.nanmin(xT))/(np.nanmax(ffd_x)-np.nanmin(ffd_x)))\n",
    "#what is xT?? should it be ffd_x??\n",
    "        ffd_xerr = (1/np.sqrt(ffd_x-np.nanmin(ffd_x))/(np.nanmax(ffd_x)-np.nanmin(ffd_x)))\n",
    "    return ffd_x, ffd_y, ffd_xerr, ffd_yerr\n",
    "\n",
    "\n",
    "def FlareKernel(x, y, xe, ye, Nx=100, Ny=100, xlim=[], ylim=[], return_axis=True):\n",
    "    '''\n",
    "    Use 2D Gaussians (from astropy models) to make a basic kernel density,\n",
    "    with errors in both X and Y considered. Turn into a 2D \"image\"\n",
    "    Upgrade Ideas\n",
    "    -------------\n",
    "    It's slow. Since Gaussians are defined analytically, maybe this could be\n",
    "    re-cast as a single array math opperation, and then refactored to have the\n",
    "    same fit/evaluate behavior as KDE functions.  Hmm...\n",
    "    '''\n",
    "\n",
    "    if len(xlim) == 0:\n",
    "        xlim = [np.nanmin(x) - np.nanmean(xe), np.nanmax(x) + np.nanmean(xe)]\n",
    "    if len(ylim) == 0:\n",
    "        ylim = [np.nanmin(y) - np.nanmean(ye), np.nanmax(y) + np.nanmean(ye)]\n",
    "\n",
    "    xx,yy = np.meshgrid(np.linspace(xlim[0], xlim[1], Nx),\n",
    "                        np.linspace(ylim[0], ylim[1], Ny), indexing='xy')\n",
    "    dx = (np.max(xlim)-np.min(xlim)) / (Nx-1)\n",
    "    dy = (np.max(ylim)-np.min(ylim)) / (Ny-1)\n",
    "\n",
    "    im = np.zeros_like(xx)\n",
    "\n",
    "    for k in range(len(x)):\n",
    "        g = Gaussian2D(amplitude=1/(2*np.pi*(xe[k]+dx)*(ye[k]+dy)),\n",
    "                       x_mean=x[k], y_mean=y[k], x_stddev=xe[k]+dx, y_stddev=ye[k]+dy)\n",
    "        tmp = g(xx,yy)\n",
    "        if np.isfinite(np.sum(tmp)):\n",
    "            im = im + tmp\n",
    "\n",
    "    if return_axis:\n",
    "        return im, xx, yy\n",
    "    else:\n",
    "        return im"
   ]
  },
  {
   "cell_type": "code",
   "execution_count": null,
   "metadata": {},
   "outputs": [],
   "source": []
  },
  {
   "cell_type": "code",
   "execution_count": null,
   "metadata": {},
   "outputs": [],
   "source": []
  }
 ],
 "metadata": {
  "kernelspec": {
   "display_name": "Python3",
   "language": "python",
   "name": "python3"
  },
  "language_info": {
   "codemirror_mode": {
    "name": "ipython",
    "version": 3
   },
   "file_extension": ".py",
   "mimetype": "text/x-python",
   "name": "python",
   "nbconvert_exporter": "python",
   "pygments_lexer": "ipython3",
   "version": "3.7.9"
  }
 },
 "nbformat": 4,
 "nbformat_minor": 4
}

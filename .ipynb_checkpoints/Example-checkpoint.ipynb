{
 "cells": [
  {
   "cell_type": "markdown",
   "metadata": {},
   "source": [
    "# How to Identify Flares Using Stella"
   ]
  },
  {
   "cell_type": "markdown",
   "metadata": {},
   "source": [
    "In this notebook I will provide a step by step process of how to identify flares on a given star. We will start off by loading in the relevant data. From there you will be able to follow along with the stella tutorial. The final step of the project is to say something about the number of flares and the frequency of flare events on a given star. To do this we will be making a flare frequency diagram (FFD) using the list of flares provided by stella."
   ]
  },
  {
   "cell_type": "markdown",
   "metadata": {},
   "source": [
    "## Part 1: Loading in the data"
   ]
  },
  {
   "cell_type": "markdown",
   "metadata": {},
   "source": [
    "To start off we will be loading in the relevant python packages that we will be using for the project"
   ]
  },
  {
   "cell_type": "code",
   "execution_count": 1,
   "metadata": {},
   "outputs": [],
   "source": [
    "%matplotlib inline                \n",
    "import numpy as np\n",
    "import matplotlib.pyplot as plt\n",
    "import pandas as pd\n",
    "from scipy import *\n",
    "import lightkurve as lk               \n",
    "import celerite\n",
    "import stella                    "
   ]
  },
  {
   "cell_type": "markdown",
   "metadata": {},
   "source": [
    "Next, we will be using the package 'lighkurve' to load in the light curves of a given star\n",
    "\n",
    "You can read more about the lightkurve package here: https://docs.lightkurve.org/index.html"
   ]
  },
  {
   "cell_type": "code",
   "execution_count": 2,
   "metadata": {},
   "outputs": [],
   "source": [
    "star = lk.search_lightcurve('TIC154101678')"
   ]
  },
  {
   "cell_type": "code",
   "execution_count": 3,
   "metadata": {},
   "outputs": [
    {
     "data": {
      "text/html": [
       "SearchResult containing 3 data products.\n",
       "\n",
       "<table id=\"table140409546347664\">\n",
       "<thead><tr><th>#</th><th>mission</th><th>year</th><th>author</th><th>exptime</th><th>target_name</th><th>distance</th></tr></thead>\n",
       "<thead><tr><th></th><th></th><th></th><th></th><th>s</th><th></th><th>arcsec</th></tr></thead>\n",
       "<tr><td>0</td><td>TESS Sector 16</td><td>2019</td><td><a href='https://heasarc.gsfc.nasa.gov/docs/tess/pipeline.html'>SPOC</a></td><td>120</td><td>154101678</td><td>0.0</td></tr>\n",
       "<tr><td>1</td><td>TESS Sector 16</td><td>2019</td><td><a href='https://archive.stsci.edu/hlsp/tess-spoc'>TESS-SPOC</a></td><td>1800</td><td>154101678</td><td>0.0</td></tr>\n",
       "<tr><td>2</td><td>TESS Sector 16</td><td>2019</td><td><a href='https://archive.stsci.edu/hlsp/qlp'>QLP</a></td><td>1800</td><td>154101678</td><td>0.0</td></tr>\n",
       "</table>"
      ],
      "text/plain": [
       "SearchResult containing 3 data products.\n",
       "\n",
       " #     mission     year   author  exptime target_name distance\n",
       "                                     s                 arcsec \n",
       "--- -------------- ---- --------- ------- ----------- --------\n",
       "  0 TESS Sector 16 2019      SPOC     120   154101678      0.0\n",
       "  1 TESS Sector 16 2019 TESS-SPOC    1800   154101678      0.0\n",
       "  2 TESS Sector 16 2019       QLP    1800   154101678      0.0"
      ]
     },
     "execution_count": 3,
     "metadata": {},
     "output_type": "execute_result"
    }
   ],
   "source": [
    "star"
   ]
  },
  {
   "cell_type": "markdown",
   "metadata": {},
   "source": [
    "This target was observed across many sectors and at various exposure times. \n",
    "\n",
    "Sector = TESS observes the sky in regions of 24x96 degrees for approximately 1 month at a time. Each of these regions is referred to as a \"sector\", starting with Sector 1.\n",
    "\n",
    "Stella only like 2 minute data (120s) so we will use the first data product in the table"
   ]
  },
  {
   "cell_type": "code",
   "execution_count": 4,
   "metadata": {},
   "outputs": [
    {
     "data": {
      "text/html": [
       "SearchResult containing 1 data products.\n",
       "\n",
       "<table id=\"table140409546981776\">\n",
       "<thead><tr><th>#</th><th>mission</th><th>year</th><th>author</th><th>exptime</th><th>target_name</th><th>distance</th></tr></thead>\n",
       "<thead><tr><th></th><th></th><th></th><th></th><th>s</th><th></th><th>arcsec</th></tr></thead>\n",
       "<tr><td>0</td><td>TESS Sector 16</td><td>2019</td><td><a href='https://heasarc.gsfc.nasa.gov/docs/tess/pipeline.html'>SPOC</a></td><td>120</td><td>154101678</td><td>0.0</td></tr>\n",
       "</table>"
      ],
      "text/plain": [
       "SearchResult containing 1 data products.\n",
       "\n",
       " #     mission     year author exptime target_name distance\n",
       "                                  s                 arcsec \n",
       "--- -------------- ---- ------ ------- ----------- --------\n",
       "  0 TESS Sector 16 2019   SPOC     120   154101678      0.0"
      ]
     },
     "execution_count": 4,
     "metadata": {},
     "output_type": "execute_result"
    }
   ],
   "source": [
    "star[0]"
   ]
  },
  {
   "cell_type": "code",
   "execution_count": 5,
   "metadata": {},
   "outputs": [
    {
     "data": {
      "text/html": [
       "<i>TessLightCurve length=16719 LABEL=&quot;TIC 154101678&quot; SECTOR=16 AUTHOR=SPOC</i>\n",
       "<table id=\"table140409550823632\" class=\"table-striped table-bordered table-condensed\">\n",
       "<thead><tr><th>time</th><th>flux</th><th>flux_err</th><th>timecorr</th><th>cadenceno</th><th>centroid_col</th><th>centroid_row</th><th>sap_flux</th><th>sap_flux_err</th><th>sap_bkg</th><th>sap_bkg_err</th><th>pdcsap_flux</th><th>pdcsap_flux_err</th><th>quality</th><th>psf_centr1</th><th>psf_centr1_err</th><th>psf_centr2</th><th>psf_centr2_err</th><th>mom_centr1</th><th>mom_centr1_err</th><th>mom_centr2</th><th>mom_centr2_err</th><th>pos_corr1</th><th>pos_corr2</th></tr></thead>\n",
       "<thead><tr><th></th><th>electron / s</th><th>electron / s</th><th>d</th><th></th><th>pix</th><th>pix</th><th>electron / s</th><th>electron / s</th><th>electron / s</th><th>electron / s</th><th>electron / s</th><th>electron / s</th><th></th><th>pix</th><th>pix</th><th>pix</th><th>pix</th><th>pix</th><th>pix</th><th>pix</th><th>pix</th><th>pix</th><th>pix</th></tr></thead>\n",
       "<thead><tr><th>object</th><th>float32</th><th>float32</th><th>float32</th><th>int32</th><th>float64</th><th>float64</th><th>float32</th><th>float32</th><th>float32</th><th>float32</th><th>float32</th><th>float32</th><th>int32</th><th>float64</th><th>float32</th><th>float64</th><th>float32</th><th>float64</th><th>float32</th><th>float64</th><th>float32</th><th>float32</th><th>float32</th></tr></thead>\n",
       "<tr><td>1738.6562784248413</td><td>1.0984803e+05</td><td>3.8951050e+01</td><td>3.7888703e-03</td><td>368062</td><td>579.50877</td><td>1767.30666</td><td>1.0853999e+05</td><td>3.7129288e+01</td><td>3.3100649e+03</td><td>9.1417675e+00</td><td>1.0984803e+05</td><td>3.8951050e+01</td><td>0</td><td>nan</td><td>nan</td><td>nan</td><td>nan</td><td>579.50877</td><td>2.7577762e-04</td><td>1767.30666</td><td>2.8339235e-04</td><td>3.1096309e-02</td><td>-1.0503383e-02</td></tr>\n",
       "<tr><td>1738.6576673405793</td><td>1.1001232e+05</td><td>3.8993366e+01</td><td>3.7888978e-03</td><td>368063</td><td>579.50352</td><td>1767.30658</td><td>1.0870674e+05</td><td>3.7169624e+01</td><td>3.3119043e+03</td><td>9.1705017e+00</td><td>1.1001232e+05</td><td>3.8993366e+01</td><td>0</td><td>nan</td><td>nan</td><td>nan</td><td>nan</td><td>579.50352</td><td>2.7587501e-04</td><td>1767.30658</td><td>2.8327692e-04</td><td>2.6753409e-02</td><td>-1.0595785e-02</td></tr>\n",
       "<tr><td>1738.659056256084</td><td>1.0986470e+05</td><td>3.8955471e+01</td><td>3.7889250e-03</td><td>368064</td><td>579.50778</td><td>1767.30227</td><td>1.0857580e+05</td><td>3.7133503e+01</td><td>3.3192068e+03</td><td>9.1455402e+00</td><td>1.0986470e+05</td><td>3.8955471e+01</td><td>0</td><td>nan</td><td>nan</td><td>nan</td><td>nan</td><td>579.50778</td><td>2.7565128e-04</td><td>1767.30227</td><td>2.8307663e-04</td><td>3.0429546e-02</td><td>-1.4725760e-02</td></tr>\n",
       "<tr><td>1738.6604451718222</td><td>1.0994238e+05</td><td>3.8960987e+01</td><td>3.7889525e-03</td><td>368065</td><td>579.50592</td><td>1767.30424</td><td>1.0864838e+05</td><td>3.7138760e+01</td><td>3.3067295e+03</td><td>9.1345129e+00</td><td>1.0994238e+05</td><td>3.8960987e+01</td><td>0</td><td>nan</td><td>nan</td><td>nan</td><td>nan</td><td>579.50592</td><td>2.7555355e-04</td><td>1767.30424</td><td>2.8289150e-04</td><td>2.8426366e-02</td><td>-1.2714201e-02</td></tr>\n",
       "<tr><td>1738.6618340873265</td><td>1.0997054e+05</td><td>3.8965572e+01</td><td>3.7889797e-03</td><td>368066</td><td>579.50389</td><td>1767.30167</td><td>1.0866584e+05</td><td>3.7143131e+01</td><td>3.3086316e+03</td><td>9.1433372e+00</td><td>1.0997054e+05</td><td>3.8965572e+01</td><td>0</td><td>nan</td><td>nan</td><td>nan</td><td>nan</td><td>579.50389</td><td>2.7556482e-04</td><td>1767.30167</td><td>2.8278603e-04</td><td>2.7097568e-02</td><td>-1.5631841e-02</td></tr>\n",
       "<tr><td>1738.6632230030636</td><td>1.0997667e+05</td><td>3.8966885e+01</td><td>3.7890072e-03</td><td>368067</td><td>579.50448</td><td>1767.30522</td><td>1.0867330e+05</td><td>3.7144379e+01</td><td>3.3154248e+03</td><td>9.1441650e+00</td><td>1.0997667e+05</td><td>3.8966885e+01</td><td>0</td><td>nan</td><td>nan</td><td>nan</td><td>nan</td><td>579.50448</td><td>2.7565594e-04</td><td>1767.30522</td><td>2.8281513e-04</td><td>2.7497819e-02</td><td>-1.1342836e-02</td></tr>\n",
       "<tr><td>1738.6646119185689</td><td>1.0994378e+05</td><td>3.8969872e+01</td><td>3.7890344e-03</td><td>368068</td><td>579.50496</td><td>1767.30178</td><td>1.0862889e+05</td><td>3.7147228e+01</td><td>3.3327358e+03</td><td>9.1564779e+00</td><td>1.0994378e+05</td><td>3.8969872e+01</td><td>0</td><td>nan</td><td>nan</td><td>nan</td><td>nan</td><td>579.50496</td><td>2.7588930e-04</td><td>1767.30178</td><td>2.8312049e-04</td><td>2.7745988e-02</td><td>-1.5417230e-02</td></tr>\n",
       "<tr><td>1738.6660008340737</td><td>1.0984108e+05</td><td>3.8952358e+01</td><td>3.7890617e-03</td><td>368069</td><td>579.50964</td><td>1767.30499</td><td>1.0854005e+05</td><td>3.7130531e+01</td><td>3.3111975e+03</td><td>9.1588030e+00</td><td>1.0984108e+05</td><td>3.8952358e+01</td><td>0</td><td>nan</td><td>nan</td><td>nan</td><td>nan</td><td>579.50964</td><td>2.7576837e-04</td><td>1767.30499</td><td>2.8334063e-04</td><td>3.1797193e-02</td><td>-1.2154063e-02</td></tr>\n",
       "<tr><td>1738.6673897498117</td><td>1.0998487e+05</td><td>3.8979187e+01</td><td>3.7890892e-03</td><td>368070</td><td>579.50344</td><td>1767.30298</td><td>1.0866432e+05</td><td>3.7156109e+01</td><td>3.3212883e+03</td><td>9.1751890e+00</td><td>1.0998487e+05</td><td>3.8979187e+01</td><td>0</td><td>nan</td><td>nan</td><td>nan</td><td>nan</td><td>579.50344</td><td>2.7586072e-04</td><td>1767.30298</td><td>2.8290271e-04</td><td>2.6557840e-02</td><td>-1.4268704e-02</td></tr>\n",
       "<tr><td>...</td><td>...</td><td>...</td><td>...</td><td>...</td><td>...</td><td>...</td><td>...</td><td>...</td><td>...</td><td>...</td><td>...</td><td>...</td><td>...</td><td>...</td><td>...</td><td>...</td><td>...</td><td>...</td><td>...</td><td>...</td><td>...</td><td>...</td><td>...</td></tr>\n",
       "<tr><td>1763.3105461619675</td><td>nan</td><td>nan</td><td>3.9010367e-03</td><td>385813</td><td>579.47251</td><td>1767.23412</td><td>1.1005241e+05</td><td>4.1659027e+01</td><td>1.8329545e+04</td><td>1.5922487e+01</td><td>nan</td><td>nan</td><td>1000000000000000</td><td>nan</td><td>nan</td><td>nan</td><td>nan</td><td>579.47251</td><td>3.2110399e-04</td><td>1767.23412</td><td>3.3828476e-04</td><td>4.9090741e-04</td><td>-8.5660055e-02</td></tr>\n",
       "<tr><td>1763.3119350437123</td><td>nan</td><td>nan</td><td>3.9010302e-03</td><td>385814</td><td>579.47527</td><td>1767.24141</td><td>1.1009967e+05</td><td>4.1650848e+01</td><td>1.8265324e+04</td><td>1.5902899e+01</td><td>nan</td><td>nan</td><td>1000000000000000</td><td>nan</td><td>nan</td><td>nan</td><td>nan</td><td>579.47527</td><td>3.2072261e-04</td><td>1767.24141</td><td>3.3781768e-04</td><td>3.7568803e-03</td><td>-7.7666923e-02</td></tr>\n",
       "<tr><td>1763.3133239254566</td><td>nan</td><td>nan</td><td>3.9010237e-03</td><td>385815</td><td>579.47003</td><td>1767.23103</td><td>1.1016229e+05</td><td>4.1632439e+01</td><td>1.8171754e+04</td><td>1.5871260e+01</td><td>nan</td><td>nan</td><td>1000000000000000</td><td>nan</td><td>nan</td><td>nan</td><td>nan</td><td>579.47003</td><td>3.2030593e-04</td><td>1767.23103</td><td>3.3724887e-04</td><td>-2.7909759e-03</td><td>-8.7815784e-02</td></tr>\n",
       "<tr><td>1763.3147128069686</td><td>nan</td><td>nan</td><td>3.9010169e-03</td><td>385816</td><td>579.47814</td><td>1767.24095</td><td>1.0992616e+05</td><td>4.1581203e+01</td><td>1.8090793e+04</td><td>1.5857589e+01</td><td>nan</td><td>nan</td><td>1000000000000000</td><td>nan</td><td>nan</td><td>nan</td><td>nan</td><td>579.47814</td><td>3.2085579e-04</td><td>1767.24095</td><td>3.3773985e-04</td><td>6.9338735e-03</td><td>-7.8598231e-02</td></tr>\n",
       "<tr><td>1763.3161016887134</td><td>nan</td><td>nan</td><td>3.9010104e-03</td><td>385817</td><td>579.47185</td><td>1767.23766</td><td>1.1003602e+05</td><td>4.1579700e+01</td><td>1.8022025e+04</td><td>1.5838342e+01</td><td>nan</td><td>nan</td><td>1000000000000000</td><td>nan</td><td>nan</td><td>nan</td><td>nan</td><td>579.47185</td><td>3.2029068e-04</td><td>1767.23766</td><td>3.3697890e-04</td><td>-1.0406045e-04</td><td>-8.2037166e-02</td></tr>\n",
       "<tr><td>1763.3174905704577</td><td>nan</td><td>nan</td><td>3.9010039e-03</td><td>385818</td><td>579.46878</td><td>1767.23546</td><td>1.1002815e+05</td><td>4.1552753e+01</td><td>1.7953707e+04</td><td>1.5789576e+01</td><td>nan</td><td>nan</td><td>1000000000000000</td><td>nan</td><td>nan</td><td>nan</td><td>nan</td><td>579.46878</td><td>3.1998046e-04</td><td>1767.23546</td><td>3.3668987e-04</td><td>-3.3587739e-03</td><td>-8.3076186e-02</td></tr>\n",
       "<tr><td>1763.3188794519697</td><td>nan</td><td>nan</td><td>3.9009971e-03</td><td>385819</td><td>579.47636</td><td>1767.23948</td><td>1.1009474e+05</td><td>4.1543369e+01</td><td>1.7851496e+04</td><td>1.5783592e+01</td><td>nan</td><td>nan</td><td>1000000000000000</td><td>nan</td><td>nan</td><td>nan</td><td>nan</td><td>579.47636</td><td>3.1987086e-04</td><td>1767.23948</td><td>3.3628009e-04</td><td>4.4987099e-03</td><td>-7.9147518e-02</td></tr>\n",
       "<tr><td>1763.320268333715</td><td>nan</td><td>nan</td><td>3.9009906e-03</td><td>385820</td><td>579.46996</td><td>1767.23768</td><td>1.0999705e+05</td><td>4.1511944e+01</td><td>1.7820539e+04</td><td>1.5747812e+01</td><td>nan</td><td>nan</td><td>1000000000000000</td><td>nan</td><td>nan</td><td>nan</td><td>nan</td><td>579.46996</td><td>3.1958081e-04</td><td>1767.23768</td><td>3.3631886e-04</td><td>-1.0356602e-03</td><td>-8.1857547e-02</td></tr>\n",
       "<tr><td>1763.3216572154602</td><td>nan</td><td>nan</td><td>3.9009841e-03</td><td>385821</td><td>579.47517</td><td>1767.23406</td><td>1.0976656e+05</td><td>4.1456623e+01</td><td>1.7744770e+04</td><td>1.5705916e+01</td><td>nan</td><td>nan</td><td>1000000000000000</td><td>nan</td><td>nan</td><td>nan</td><td>nan</td><td>579.47517</td><td>3.2007470e-04</td><td>1767.23406</td><td>3.3689072e-04</td><td>2.9577345e-03</td><td>-8.6069614e-02</td></tr>\n",
       "<tr><td>1763.323046097205</td><td>nan</td><td>nan</td><td>3.9009776e-03</td><td>385822</td><td>579.47856</td><td>1767.24142</td><td>1.1003411e+05</td><td>4.1465771e+01</td><td>1.7635242e+04</td><td>1.5678820e+01</td><td>nan</td><td>nan</td><td>1000000000000000</td><td>nan</td><td>nan</td><td>nan</td><td>nan</td><td>579.47856</td><td>3.1932571e-04</td><td>1767.24142</td><td>3.3550349e-04</td><td>6.6699479e-03</td><td>-7.7387020e-02</td></tr>\n",
       "</table>"
      ],
      "text/plain": [
       "<TessLightCurve length=16719 LABEL=\"TIC 154101678\" SECTOR=16 AUTHOR=SPOC>\n",
       "       time             flux      ...   pos_corr1      pos_corr2   \n",
       "                    electron / s  ...      pix            pix      \n",
       "      object          float32     ...    float32        float32    \n",
       "------------------ -------------- ... -------------- --------------\n",
       "1738.6562784248413  1.0984803e+05 ...  3.1096309e-02 -1.0503383e-02\n",
       "1738.6576673405793  1.1001232e+05 ...  2.6753409e-02 -1.0595785e-02\n",
       " 1738.659056256084  1.0986470e+05 ...  3.0429546e-02 -1.4725760e-02\n",
       "1738.6604451718222  1.0994238e+05 ...  2.8426366e-02 -1.2714201e-02\n",
       "1738.6618340873265  1.0997054e+05 ...  2.7097568e-02 -1.5631841e-02\n",
       "1738.6632230030636  1.0997667e+05 ...  2.7497819e-02 -1.1342836e-02\n",
       "1738.6646119185689  1.0994378e+05 ...  2.7745988e-02 -1.5417230e-02\n",
       "1738.6660008340737  1.0984108e+05 ...  3.1797193e-02 -1.2154063e-02\n",
       "1738.6673897498117  1.0998487e+05 ...  2.6557840e-02 -1.4268704e-02\n",
       "               ...            ... ...            ...            ...\n",
       "1763.3105461619675            nan ...  4.9090741e-04 -8.5660055e-02\n",
       "1763.3119350437123            nan ...  3.7568803e-03 -7.7666923e-02\n",
       "1763.3133239254566            nan ... -2.7909759e-03 -8.7815784e-02\n",
       "1763.3147128069686            nan ...  6.9338735e-03 -7.8598231e-02\n",
       "1763.3161016887134            nan ... -1.0406045e-04 -8.2037166e-02\n",
       "1763.3174905704577            nan ... -3.3587739e-03 -8.3076186e-02\n",
       "1763.3188794519697            nan ...  4.4987099e-03 -7.9147518e-02\n",
       " 1763.320268333715            nan ... -1.0356602e-03 -8.1857547e-02\n",
       "1763.3216572154602            nan ...  2.9577345e-03 -8.6069614e-02\n",
       " 1763.323046097205            nan ...  6.6699479e-03 -7.7387020e-02"
      ]
     },
     "execution_count": 5,
     "metadata": {},
     "output_type": "execute_result"
    }
   ],
   "source": [
    "lc = star[0].download()\n",
    "lc"
   ]
  },
  {
   "cell_type": "markdown",
   "metadata": {},
   "source": [
    "Plotting the light curve"
   ]
  },
  {
   "cell_type": "code",
   "execution_count": 7,
   "metadata": {
    "scrolled": false
   },
   "outputs": [
    {
     "data": {
      "image/png": "[encoded data removed]",
      "text/plain": [
       "<Figure size 848.5x400 with 1 Axes>"
      ]
     },
     "metadata": {},
     "output_type": "display_data"
    }
   ],
   "source": [
    "lc.plot();"
   ]
  },
  {
   "cell_type": "markdown",
   "metadata": {},
   "source": [
    "A note on time units:\n",
    "\n",
    "BJD = Barycentric Julian Date, the Julian Date that has been corrected for differences in the Earth's position with respect to the Solar System center of mass.\n",
    "\n",
    "\n",
    "BTJD = Barycentric TESS Julian Date, the timestamp measured in BJD, but offset by 2457000.0. I.e., BTJD = BJD - 2457000.0"
   ]
  },
  {
   "cell_type": "code",
   "execution_count": 9,
   "metadata": {},
   "outputs": [
    {
     "data": {
      "text/plain": [
       "array([1738.65627842, 1738.65766734, 1738.65905626, ..., 1763.32026833,\n",
       "       1763.32165722, 1763.3230461 ])"
      ]
     },
     "execution_count": 9,
     "metadata": {},
     "output_type": "execute_result"
    }
   ],
   "source": [
    "lc.time.btjd"
   ]
  },
  {
   "cell_type": "markdown",
   "metadata": {},
   "source": [
    "## Part 2: Using Stella"
   ]
  },
  {
   "cell_type": "code",
   "execution_count": null,
   "metadata": {},
   "outputs": [],
   "source": []
  },
  {
   "cell_type": "markdown",
   "metadata": {},
   "source": [
    "We will be using the flare finding algortithm developed by Adina Feinstein to search for flares in the TESS data.\n",
    "You can learn more about stella and how it work here: https://adina.feinste.in/stella/index.html"
   ]
  },
  {
   "cell_type": "code",
   "execution_count": null,
   "metadata": {},
   "outputs": [],
   "source": []
  },
  {
   "cell_type": "code",
   "execution_count": null,
   "metadata": {},
   "outputs": [],
   "source": []
  },
  {
   "cell_type": "markdown",
   "metadata": {},
   "source": [
    "## Part 3: Flare Frequency Distributions"
   ]
  },
  {
   "cell_type": "markdown",
   "metadata": {},
   "source": [
    "For this part we will be using code written by Dr. Jim Davenport (available on GitHub: https://github.com/jradavenport/FFD) to create a flare frequency distribution plot"
   ]
  },
  {
   "cell_type": "code",
   "execution_count": null,
   "metadata": {},
   "outputs": [],
   "source": [
    "from astropy.modeling.models import Gaussian2D\n",
    "\n",
    "\n",
    "def FFD(ED, TOTEXP=1., Lum=30., fluxerr=0., dur=[], logY=True, est_comp=False):\n",
    "    '''\n",
    "    Given a set of stellar flares, with accompanying durations light curve properties,\n",
    "    compute the reverse cumulative Flare Frequency Distribution (FFD), and\n",
    "    approximate uncertainties in both energy and rate (X,Y) dimensions.\n",
    "    This diagram can be read as measuring the number of flares per day at a\n",
    "    given energy or larger.\n",
    "    Not a complicated task, just tedious.\n",
    "    Y-errors (rate) are computed using Poisson upper-limit approximation from\n",
    "    Gehrels (1986) \"Confidence limits for small numbers of events in astrophysical data\", https://doi.org/10.1086/164079\n",
    "    Eqn 7, assuming S=1.\n",
    "    X-errors (event energy) are computed following Signal-to-Noise approach commonly\n",
    "    used for Equivalent Widths in spectroscopy, from\n",
    "    Vollmann & Eversberg (2006) \"Astronomische Nachrichten, Vol.327, Issue 9, p.862\", https://dx.doi.org/10.1002/asna.200610645\n",
    "    Eqn 6.\n",
    "    Parameters\n",
    "    ----------\n",
    "    ED : array of Equiv Dur's, need to include a luminosity!\n",
    "    TOTEXP : total duration of observations, in days\n",
    "    Lum : the log luminosity of the star\n",
    "    fluxerr : the average flux errors of your data (in relative flux units!)\n",
    "    dur : array of flare durations.\n",
    "    logY : if True return Y-axis (and error) in log rate (Default: True)\n",
    "    est_comp : estimate incompleteness using histogram method, scale Y errors?\n",
    "        (Default: True)\n",
    "    Returns\n",
    "    -------\n",
    "    ffd_x, ffd_y, ffd_xerr, ffd_yerr\n",
    "    X coordinate always assumed to be log_10(Energy)\n",
    "    Y coordinate is log_10(N/Day) by default, but optionally is N/Day\n",
    "    Upgrade Ideas\n",
    "    -------------\n",
    "    - More graceful behavior if only an array of flares and a total duration are\n",
    "        specified (i.e. just enough to make ffd_x, ffd_y)\n",
    "    - Better propogation of specific flux errors in the light curve, rather than\n",
    "        average error used\n",
    "    - Include detrending errors? (e.g. from a GP)\n",
    "    - Asymmetric Poisson errors?\n",
    "    - Better handling of incompleteness?\n",
    "    '''\n",
    "    # REVERSE sort the flares in energy\n",
    "    ss = np.argsort(np.array(ED))[::-1]\n",
    "    ffd_x = np.log10(ED[ss]) + Lum\n",
    "\n",
    "    Num = np.arange(1, len(ffd_x)+1)\n",
    "    ffd_y = Num / TOTEXP\n",
    "\n",
    "    # approximate the Poisson Y errors using Gehrels (1986) eqn 7\n",
    "    Perror = np.sqrt(Num + 0.75) + 1.0\n",
    "    ffd_yerr = Perror / TOTEXP\n",
    "\n",
    "    # estimate completeness using the cumulative distribution of the histogram\n",
    "    if est_comp:\n",
    "        # make very loose guess at how many bins to choose\n",
    "        nbin = int(np.sqrt(len(ffd_x)))\n",
    "        if nbin < 10:\n",
    "            nbin=10 # but use at least 10 bins\n",
    "\n",
    "        # make histogram of the log(energies)\n",
    "        hh, be = np.histogram(ffd_x, bins=nbin, range=[np.nanmin(ffd_x), np.nanmax(ffd_x)])\n",
    "        hh = hh/np.nanmax(hh)\n",
    "        # make cumulative distribution of the histogram, scale to =1 at the hist peak\n",
    "        cc = np.cumsum(hh)/np.sum(hh[0:np.argmax(hh)])\n",
    "        be = (be[1:]+be[0:-1])/2\n",
    "        # make completeness = 1 for energies above the histogram peak\n",
    "        cc[np.argmax(hh):] = 1\n",
    "        # interpolate the cumulative histogram curve back to the original energies\n",
    "        ycomp = np.interp(ffd_x, be, cc)\n",
    "        # scale the y-errors by the completeness factor (i.e. inflate small energy errors)\n",
    "        ffd_yerr = ffd_yerr / ycomp\n",
    "\n",
    "    if logY:\n",
    "        # transform FFD Y and Y Error into log10\n",
    "        ffd_yerr = np.abs(ffd_yerr / np.log(10.) / ffd_y)\n",
    "        ffd_y = np.log10(ffd_y)\n",
    "\n",
    "    # compute X uncertainties for FFD\n",
    "    if len(dur)==len(ffd_x):\n",
    "\n",
    "        # assume relative flux error = 1/SN\n",
    "        S2N = 1/fluxerr\n",
    "        # based on Equivalent Width error\n",
    "        # Eqn 6, Vollmann & Eversberg (2006) Astronomische Nachrichten, Vol.327, Issue 9, p.862\n",
    "        ED_err = np.sqrt(2)*(dur[ss]*86400. - ED[ss])/S2N\n",
    "        ffd_xerr = np.abs((ED_err) / np.log(10.) / ED[ss]) # convert to log\n",
    "    else:\n",
    "        # not particularly meaningful, but an interesting shape. NOT reccomended\n",
    "        print('Warning: Durations not set. Making bad assumptions about the FFD X Error!')\n",
    "        #ffd_xerr = (1/np.sqrt(ffd_x-np.nanmin(xT))/(np.nanmax(ffd_x)-np.nanmin(ffd_x)))\n",
    "#what is xT?? should it be ffd_x??\n",
    "        ffd_xerr = (1/np.sqrt(ffd_x-np.nanmin(ffd_x))/(np.nanmax(ffd_x)-np.nanmin(ffd_x)))\n",
    "    return ffd_x, ffd_y, ffd_xerr, ffd_yerr\n",
    "\n",
    "\n",
    "def FlareKernel(x, y, xe, ye, Nx=100, Ny=100, xlim=[], ylim=[], return_axis=True):\n",
    "    '''\n",
    "    Use 2D Gaussians (from astropy models) to make a basic kernel density,\n",
    "    with errors in both X and Y considered. Turn into a 2D \"image\"\n",
    "    Upgrade Ideas\n",
    "    -------------\n",
    "    It's slow. Since Gaussians are defined analytically, maybe this could be\n",
    "    re-cast as a single array math opperation, and then refactored to have the\n",
    "    same fit/evaluate behavior as KDE functions.  Hmm...\n",
    "    '''\n",
    "\n",
    "    if len(xlim) == 0:\n",
    "        xlim = [np.nanmin(x) - np.nanmean(xe), np.nanmax(x) + np.nanmean(xe)]\n",
    "    if len(ylim) == 0:\n",
    "        ylim = [np.nanmin(y) - np.nanmean(ye), np.nanmax(y) + np.nanmean(ye)]\n",
    "\n",
    "    xx,yy = np.meshgrid(np.linspace(xlim[0], xlim[1], Nx),\n",
    "                        np.linspace(ylim[0], ylim[1], Ny), indexing='xy')\n",
    "    dx = (np.max(xlim)-np.min(xlim)) / (Nx-1)\n",
    "    dy = (np.max(ylim)-np.min(ylim)) / (Ny-1)\n",
    "\n",
    "    im = np.zeros_like(xx)\n",
    "\n",
    "    for k in range(len(x)):\n",
    "        g = Gaussian2D(amplitude=1/(2*np.pi*(xe[k]+dx)*(ye[k]+dy)),\n",
    "                       x_mean=x[k], y_mean=y[k], x_stddev=xe[k]+dx, y_stddev=ye[k]+dy)\n",
    "        tmp = g(xx,yy)\n",
    "        if np.isfinite(np.sum(tmp)):\n",
    "            im = im + tmp\n",
    "\n",
    "    if return_axis:\n",
    "        return im, xx, yy\n",
    "    else:\n",
    "        return im"
   ]
  },
  {
   "cell_type": "code",
   "execution_count": null,
   "metadata": {},
   "outputs": [],
   "source": []
  },
  {
   "cell_type": "code",
   "execution_count": null,
   "metadata": {},
   "outputs": [],
   "source": []
  }
 ],
 "metadata": {
  "kernelspec": {
   "display_name": "Python3",
   "language": "python",
   "name": "python3"
  },
  "language_info": {
   "codemirror_mode": {
    "name": "ipython",
    "version": 3
   },
   "file_extension": ".py",
   "mimetype": "text/x-python",
   "name": "python",
   "nbconvert_exporter": "python",
   "pygments_lexer": "ipython3",
   "version": "3.7.9"
  }
 },
 "nbformat": 4,
 "nbformat_minor": 4
}
